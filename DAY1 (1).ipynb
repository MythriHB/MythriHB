{
  "nbformat": 4,
  "nbformat_minor": 0,
  "metadata": {
    "colab": {
      "provenance": []
    },
    "kernelspec": {
      "name": "python3",
      "display_name": "Python 3"
    },
    "language_info": {
      "name": "python"
    }
  },
  "cells": [
    {
      "cell_type": "markdown",
      "source": [],
      "metadata": {
        "id": "sZGpCoODTx-d"
      }
    },
    {
      "cell_type": "code",
      "source": [
        "x=10\n",
        "print(x)\n",
        "y=3.14\n",
        "print(y)\n",
        "name=\"john\"\n",
        "pri"
      ],
      "metadata": {
        "id": "nc9tdYOg4rfX"
      },
      "execution_count": null,
      "outputs": []
    },
    {
      "cell_type": "code",
      "execution_count": null,
      "metadata": {
        "colab": {
          "base_uri": "https://localhost:8080/"
        },
        "collapsed": true,
        "id": "yiA7ctLENIoh",
        "outputId": "27457b53-2853-4b66-b6dc-a5cd331f330d"
      },
      "outputs": [
        {
          "output_type": "stream",
          "name": "stdout",
          "text": [
            "hello world\n",
            "mythri\n",
            "computer science engineering\n"
          ]
        }
      ],
      "source": [
        "print('hello world')\n",
        "print('mythri')\n",
        "print('computer science engineering')"
      ]
    },
    {
      "cell_type": "code",
      "source": [
        "print('i am your student')"
      ],
      "metadata": {
        "colab": {
          "base_uri": "https://localhost:8080/"
        },
        "id": "r23zYbRHU_4N",
        "outputId": "8daa4e04-c5bb-480c-c1ad-04f80dc6ab9b"
      },
      "execution_count": null,
      "outputs": [
        {
          "output_type": "stream",
          "name": "stdout",
          "text": [
            "i am your student\n"
          ]
        }
      ]
    },
    {
      "cell_type": "code",
      "source": [
        "x=10\n",
        "print(x)\n",
        "y=3.14\n",
        "print(y,name)\n",
        "name=\"john\"\n",
        "print(name)\n",
        "print(name + 'is a teacher')\n",
        "print(x,y,name)"
      ],
      "metadata": {
        "colab": {
          "base_uri": "https://localhost:8080/"
        },
        "id": "23Di9mpb5TL2",
        "outputId": "8525ef54-0498-4509-df53-68a923114b00"
      },
      "execution_count": 11,
      "outputs": [
        {
          "output_type": "stream",
          "name": "stdout",
          "text": [
            "10\n",
            "3.14 john\n",
            "john\n",
            "johnis a teacher\n",
            "10 3.14 john\n"
          ]
        }
      ]
    },
    {
      "cell_type": "code",
      "source": [
        "name=input('enter your name')\n",
        "a=input('enter a number')\n",
        "print(name)"
      ],
      "metadata": {
        "colab": {
          "base_uri": "https://localhost:8080/"
        },
        "id": "mjaypOaP7zQN",
        "outputId": "ad7227a8-e174-432d-db05-b3889be3f2d2"
      },
      "execution_count": 13,
      "outputs": [
        {
          "output_type": "stream",
          "name": "stdout",
          "text": [
            "enter your namekanasu\n",
            "enter a number7\n",
            "kanasu\n"
          ]
        }
      ]
    },
    {
      "cell_type": "code",
      "source": [
        "a=input(\"enter your number\")\n",
        "b=input(\"enter your number\")\n",
        "c=(a+b)\n",
        "print(c)"
      ],
      "metadata": {
        "colab": {
          "base_uri": "https://localhost:8080/"
        },
        "id": "lD0Mz6ZF8Zsu",
        "outputId": "e03e2ae0-1e48-4367-b7f0-8c9cf0dacaf0"
      },
      "execution_count": 14,
      "outputs": [
        {
          "output_type": "stream",
          "name": "stdout",
          "text": [
            "enter your number17\n",
            "enter your number7\n",
            "177\n"
          ]
        }
      ]
    },
    {
      "cell_type": "markdown",
      "source": [
        "area of circle"
      ],
      "metadata": {
        "id": "L8akkuMcBnyr"
      }
    },
    {
      "cell_type": "code",
      "source": [],
      "metadata": {
        "id": "CjwFLp30CH-0"
      },
      "execution_count": null,
      "outputs": []
    },
    {
      "cell_type": "code",
      "source": [],
      "metadata": {
        "id": "iRW34p9ECKWs"
      },
      "execution_count": null,
      "outputs": []
    },
    {
      "cell_type": "code",
      "source": [
        "a=int(input(\"enter the number\"))\n",
        "b=int(input(\"enter the number\"))\n",
        "print(a+b)\n",
        "print(a-b)\n",
        "print(a*b)\n",
        "print(a/b)\n",
        "print(a%b)\n",
        "print(a**b)"
      ],
      "metadata": {
        "colab": {
          "base_uri": "https://localhost:8080/"
        },
        "id": "pfTkkpIR9Yw0",
        "outputId": "18dfee5a-7cc7-43c9-a627-8382636320f0"
      },
      "execution_count": 25,
      "outputs": [
        {
          "output_type": "stream",
          "name": "stdout",
          "text": [
            "enter the number12\n",
            "enter the number13\n",
            "25\n",
            "-1\n",
            "156\n",
            "0.9230769230769231\n",
            "12\n",
            "106993205379072\n"
          ]
        }
      ]
    },
    {
      "cell_type": "code",
      "source": [
        "r=float(input(\"enter the radius\"))\n",
        "area=3.14*r*r\n",
        "print(area)"
      ],
      "metadata": {
        "colab": {
          "base_uri": "https://localhost:8080/"
        },
        "id": "aoRpfINH-ad1",
        "outputId": "88ae4d16-cadf-47bb-8e37-6f77df25994c"
      },
      "execution_count": 23,
      "outputs": [
        {
          "output_type": "stream",
          "name": "stdout",
          "text": [
            "enter the radius1\n",
            "3.14\n"
          ]
        }
      ]
    },
    {
      "cell_type": "markdown",
      "source": [
        "temperatur converter"
      ],
      "metadata": {
        "id": "xC146PwTCOUb"
      }
    },
    {
      "cell_type": "code",
      "source": [
        "celsius=float(input(\"enter temperature in celsius\"))\n",
        "fahrenheit=(celsius*9/5)+32\n",
        "print(\"temperature in fahrenheit:\",fahrenheit)"
      ],
      "metadata": {
        "colab": {
          "base_uri": "https://localhost:8080/"
        },
        "id": "DCTev_qMCcWL",
        "outputId": "419fcb8e-0346-4165-fc50-c7f4b00a2640"
      },
      "execution_count": 26,
      "outputs": [
        {
          "output_type": "stream",
          "name": "stdout",
          "text": [
            "enter temperature in celsius143\n",
            "temperature in fahrenheit: 289.4\n"
          ]
        }
      ]
    }
  ]
}